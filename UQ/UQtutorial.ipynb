{
 "cells": [
  {
   "cell_type": "code",
   "execution_count": 5,
   "metadata": {},
   "outputs": [],
   "source": [
    "import numpy as np\n",
    "import ymmsl\n",
    "import yaml\n",
    "import sobol_seq\n",
    "import csv\n",
    "import os\n",
    "import matplotlib.pyplot as plt\n",
    "import seaborn as sns"
   ]
  },
  {
   "cell_type": "code",
   "execution_count": 19,
   "metadata": {},
   "outputs": [],
   "source": [
    "# Read_ymmsl_file\n",
    "def read_ymmsl_file(path,filename):\n",
    "    final_path = path + filename\n",
    "    with open(final_path) as f:\n",
    "        ymmsl_data = ymmsl.load(f)\n",
    "        \n",
    "    return ymmsl_data"
   ]
  },
  {
   "cell_type": "code",
   "execution_count": 20,
   "metadata": {},
   "outputs": [],
   "source": [
    "# save ymmsl file\n",
    "def write_ymmsl_file(path,filename,config_data):\n",
    "    with open(path+filename, 'w') as f:\n",
    "        ymmsl.save(config_data, f)"
   ]
  },
  {
   "cell_type": "code",
   "execution_count": 21,
   "metadata": {},
   "outputs": [],
   "source": [
    "# Transform the normalized sample matrix to ranges of uncertain parameters\n",
    "def dim_transform(sobel_vector,uncertain_list):\n",
    "    \n",
    "    dim = len(uncertain_list)\n",
    "    for num_dim in range(dim):\n",
    "        para_max = uncertain_list[num_dim].get('max')\n",
    "        para_min = uncertain_list[num_dim].get('min')\n",
    "        sobel_vector[:,num_dim] = para_min + (para_max-para_min)*sobel_vector[:,num_dim]\n",
    "        \n",
    "    return sobel_vector"
   ]
  },
  {
   "cell_type": "code",
   "execution_count": 22,
   "metadata": {},
   "outputs": [],
   "source": [
    "####################################################################################\n",
    "##### Sample generation and UQ campaign creation (including instances folder)#######\n",
    "####################################################################################\n",
    "# Note:\n",
    "#  This is used to generate UQ samples for only four biological parameters:\n",
    "#\t1) Endothelium endpoint 2)smc max stran 3)balloon extension 4) Fenestration probability\n",
    "\n",
    "# Naming of Folder and files for samples\n",
    "# Level 0:    UQtest                                    (UQ campaign name)\n",
    "# Level 1:    UQtest/A                                  (sample matrix of sobol sequence)\n",
    "# Level 2:    UQtest/A/A_X where X vary from 1 -> N     (N: number of samples)\n",
    "# Level 3:    UQtest/A/A_X/input.ymmsl\n"
   ]
  },
  {
   "cell_type": "code",
   "execution_count": 23,
   "metadata": {},
   "outputs": [],
   "source": [
    "### Main function\n",
    "# Number of samples for UQ\n",
    "N_sample = 128\n",
    "\n",
    "# Template path to the ymmsl file (relative path from ISR3D/Result/UQtest/ to ISR3D/UQ/template/input_stage4.ymmsl)\n",
    "input_path = '../../UQ/template/'\n",
    "input_ymmsl_filename = 'input_stage4.ymmsl'\n",
    "\n",
    "# Output directory for UQ campagin folder and name\n",
    "output_path = './'\n",
    "experiment_name = 'UQtest'"
   ]
  },
  {
   "cell_type": "code",
   "execution_count": 24,
   "metadata": {},
   "outputs": [],
   "source": [
    "# Read in the data of template ymmsl file\n",
    "ymmsl_data = read_ymmsl_file(input_path,input_ymmsl_filename)"
   ]
  },
  {
   "cell_type": "code",
   "execution_count": 25,
   "metadata": {},
   "outputs": [],
   "source": [
    "# Take out the unchanged model part and need-for-change settings part for ymmsl model\n",
    "model = ymmsl_data.model\n",
    "settings = ymmsl_data.settings"
   ]
  },
  {
   "cell_type": "code",
   "execution_count": 26,
   "metadata": {},
   "outputs": [],
   "source": [
    "# Set uncertain parameters and its ranges as a list\n",
    "ymmsl_uncertain_parameters = [\n",
    "        {\n",
    "            'name': 'smc.endo_endpoint',\n",
    "            'min': 10.0,\n",
    "            'max': 20.0\n",
    "        },\n",
    "        {\n",
    "            'name': 'smc.balloon_extension',\n",
    "            'min': 0.5,\n",
    "            'max': 1.5\n",
    "        },\n",
    "        {\n",
    "            'name': 'smc.smc_max_strain',\n",
    "            'min': 1.2,\n",
    "            'max': 1.8\n",
    "        },\n",
    "        {\n",
    "            'name': 'smc.fenestration_probability',\n",
    "            'min': 0.0,# Calculate the lumen volume from (lumen_area_of_each_slice*depth_of_slice)\n",
    "            'max': 0.1\n",
    "        }]"
   ]
  },
  {
   "cell_type": "code",
   "execution_count": 27,
   "metadata": {},
   "outputs": [
    {
     "name": "stdout",
     "output_type": "stream",
     "text": [
      "Number of uncertain parameter: 4\n"
     ]
    }
   ],
   "source": [
    "# Count the total uncertain input dimensions (here 4 parameters)\n",
    "num_uncer_para = len(ymmsl_uncertain_parameters)\n",
    "print('Number of uncertain parameter: '+str(num_uncer_para))"
   ]
  },
  {
   "cell_type": "code",
   "execution_count": 28,
   "metadata": {},
   "outputs": [],
   "source": [
    "# Generate sobel sequence range (0,1), save the file and transform to (min,max)\n",
    "A = sobol_seq.i4_sobol_generate(num_uncer_para,N_sample)\n",
    "A = dim_transform(A,ymmsl_uncertain_parameters)\n",
    "np.savetxt(\"A.csv\",A)"
   ]
  },
  {
   "cell_type": "code",
   "execution_count": 29,
   "metadata": {},
   "outputs": [
    {
     "name": "stdout",
     "output_type": "stream",
     "text": [
      "Successfully created the directory ./UQtest\n"
     ]
    }
   ],
   "source": [
    "# Create corresponding directory and folders\n",
    "try:\n",
    "    os.mkdir(output_path+experiment_name)\n",
    "except OSError:\n",
    "    print (\"Creation of the directory %s failed\" % output_path+experiment_name)\n",
    "else:\n",
    "    print (\"Successfully created the directory %s\" % output_path+experiment_name)"
   ]
  },
  {
   "cell_type": "code",
   "execution_count": 30,
   "metadata": {},
   "outputs": [
    {
     "name": "stdout",
     "output_type": "stream",
     "text": [
      "Wrting and saving procedure done: A\n"
     ]
    }
   ],
   "source": [
    "# A: Replace the corresponding value within the dict and output the file\n",
    "os.mkdir(output_path+experiment_name+'/A')\n",
    "checklist = ['A']\n",
    "\n",
    "for n in range(N_sample):\n",
    "    sample_path = output_path+experiment_name+'/A'+'/A_'+str(n)\n",
    "    os.mkdir(sample_path)\n",
    "    \n",
    "    # Generate file for ymmsl \n",
    "    num_para = 0\n",
    "    for para in ymmsl_uncertain_parameters:\n",
    "        settings[para.get('name')] = float(A[n,num_para])\n",
    "        num_para = num_para + 1\n",
    "        \n",
    "    config = ymmsl.Configuration(model, settings)\n",
    "    write_ymmsl_file(sample_path+'/','input_stage4.ymmsl',config)\n",
    "\n",
    "print('Wrting and saving procedure done: A')"
   ]
  },
  {
   "cell_type": "code",
   "execution_count": 31,
   "metadata": {},
   "outputs": [],
   "source": [
    "####################################################################################\n",
    "##### Run shell script to broadcast other input files to each sample folder#########\n",
    "####################################################################################"
   ]
  },
  {
   "cell_type": "code",
   "execution_count": 32,
   "metadata": {
    "scrolled": true
   },
   "outputs": [
    {
     "data": {
      "text/plain": [
       "0"
      ]
     },
     "execution_count": 32,
     "metadata": {},
     "output_type": "execute_result"
    }
   ],
   "source": [
    "import subprocess\n",
    "# Template path to the ymmsl file (relative path from ISR3D/Result/UQtest/ to ISR3D/UQ/function/BCastStage3.sh)\n",
    "subprocess.call(['bash','../../UQ/function/BCastStage3.sh']) "
   ]
  },
  {
   "cell_type": "code",
   "execution_count": 34,
   "metadata": {},
   "outputs": [],
   "source": [
    "####################################################################################################\n",
    "##### You can copy the slurm job array to the directory and launch through terminal ################\n",
    "##### Or directly do it here                                                        ################\n",
    "####################################################################################################"
   ]
  },
  {
   "cell_type": "code",
   "execution_count": 35,
   "metadata": {},
   "outputs": [
    {
     "data": {
      "text/plain": [
       "CompletedProcess(args=['sbatch', '../../UQ/slurm/job_array.sl'], returncode=0)"
      ]
     },
     "execution_count": 35,
     "metadata": {},
     "output_type": "execute_result"
    }
   ],
   "source": [
    "subprocess.run([\"sbatch\", \"../../UQ/slurm/job_array.sl\"])"
   ]
  },
  {
   "cell_type": "code",
   "execution_count": 2,
   "metadata": {},
   "outputs": [],
   "source": [
    "################################################################################\n",
    "###### Fetch the result data and plot out the PDF and mean+/-STD figures #######\n",
    "################################################################################"
   ]
  },
  {
   "cell_type": "code",
   "execution_count": 7,
   "metadata": {},
   "outputs": [],
   "source": [
    "# Function of reading data\n",
    "def LumenRead(path,numfile):\n",
    "    \n",
    "    resultlist = np.empty((0,39), float)\n",
    "    for i in range(numfile):\n",
    "        filename = os.path.join(path,('lumen_area_000'+str(\"{0:0=3d}\".format(i))+'.csv'))\n",
    "        reader = csv.reader(open(filename, \"r\"), delimiter='\\t')\n",
    "        x = list(reader)\n",
    "        result = np.array(x[0][:-1]).astype(\"float\")\n",
    "        resultlist = np.append(resultlist, np.expand_dims(result,axis=0), axis=0)\n",
    "        \n",
    "    # print(resultlist.shape)\n",
    "    return resultlist"
   ]
  },
  {
   "cell_type": "code",
   "execution_count": 8,
   "metadata": {},
   "outputs": [
    {
     "name": "stdout",
     "output_type": "stream",
     "text": [
      "Processing: ./UQtest/A/A_0\n",
      "Processing: ./UQtest/A/A_1\n",
      "Processing: ./UQtest/A/A_10\n",
      "Processing: ./UQtest/A/A_100\n",
      "Processing: ./UQtest/A/A_101\n",
      "Processing: ./UQtest/A/A_102\n",
      "Processing: ./UQtest/A/A_103\n",
      "Processing: ./UQtest/A/A_104\n",
      "Processing: ./UQtest/A/A_105\n",
      "Processing: ./UQtest/A/A_106\n",
      "Processing: ./UQtest/A/A_107\n",
      "Processing: ./UQtest/A/A_108\n",
      "Processing: ./UQtest/A/A_109\n",
      "Processing: ./UQtest/A/A_11\n",
      "Processing: ./UQtest/A/A_110\n",
      "Processing: ./UQtest/A/A_111\n",
      "Processing: ./UQtest/A/A_112\n",
      "Processing: ./UQtest/A/A_113\n",
      "Processing: ./UQtest/A/A_114\n",
      "Processing: ./UQtest/A/A_115\n",
      "Processing: ./UQtest/A/A_116\n",
      "Processing: ./UQtest/A/A_117\n",
      "Processing: ./UQtest/A/A_118\n",
      "Processing: ./UQtest/A/A_119\n",
      "Processing: ./UQtest/A/A_12\n",
      "Processing: ./UQtest/A/A_120\n",
      "Processing: ./UQtest/A/A_121\n",
      "Processing: ./UQtest/A/A_122\n",
      "Processing: ./UQtest/A/A_123\n",
      "Processing: ./UQtest/A/A_124\n",
      "Processing: ./UQtest/A/A_125\n",
      "Processing: ./UQtest/A/A_126\n",
      "Processing: ./UQtest/A/A_127\n",
      "Processing: ./UQtest/A/A_13\n",
      "Processing: ./UQtest/A/A_14\n",
      "Processing: ./UQtest/A/A_15\n",
      "Processing: ./UQtest/A/A_16\n",
      "Processing: ./UQtest/A/A_17\n",
      "Processing: ./UQtest/A/A_18\n",
      "Processing: ./UQtest/A/A_19\n",
      "Processing: ./UQtest/A/A_2\n",
      "Processing: ./UQtest/A/A_20\n",
      "Processing: ./UQtest/A/A_21\n",
      "Processing: ./UQtest/A/A_22\n",
      "Processing: ./UQtest/A/A_23\n",
      "Processing: ./UQtest/A/A_24\n",
      "Processing: ./UQtest/A/A_25\n",
      "Processing: ./UQtest/A/A_26\n",
      "Processing: ./UQtest/A/A_27\n",
      "Processing: ./UQtest/A/A_28\n",
      "Processing: ./UQtest/A/A_29\n",
      "Processing: ./UQtest/A/A_3\n",
      "Processing: ./UQtest/A/A_30\n",
      "Processing: ./UQtest/A/A_31\n",
      "Processing: ./UQtest/A/A_32\n",
      "Processing: ./UQtest/A/A_33\n",
      "Processing: ./UQtest/A/A_34\n",
      "Processing: ./UQtest/A/A_35\n",
      "Processing: ./UQtest/A/A_36\n",
      "Processing: ./UQtest/A/A_37\n",
      "Processing: ./UQtest/A/A_38\n",
      "Processing: ./UQtest/A/A_39\n",
      "Processing: ./UQtest/A/A_4\n",
      "Processing: ./UQtest/A/A_40\n",
      "Processing: ./UQtest/A/A_41\n",
      "Processing: ./UQtest/A/A_42\n",
      "Processing: ./UQtest/A/A_43\n",
      "Processing: ./UQtest/A/A_44\n",
      "Processing: ./UQtest/A/A_45\n",
      "Processing: ./UQtest/A/A_46\n",
      "Processing: ./UQtest/A/A_47\n",
      "Processing: ./UQtest/A/A_48\n",
      "Processing: ./UQtest/A/A_49\n",
      "Processing: ./UQtest/A/A_5\n",
      "Processing: ./UQtest/A/A_50\n",
      "Processing: ./UQtest/A/A_51\n",
      "Processing: ./UQtest/A/A_52\n",
      "Processing: ./UQtest/A/A_53\n",
      "Processing: ./UQtest/A/A_54\n",
      "Processing: ./UQtest/A/A_55\n",
      "Processing: ./UQtest/A/A_56\n",
      "Processing: ./UQtest/A/A_57\n",
      "Processing: ./UQtest/A/A_58\n",
      "Processing: ./UQtest/A/A_59\n",
      "Processing: ./UQtest/A/A_6\n",
      "Processing: ./UQtest/A/A_60\n",
      "Processing: ./UQtest/A/A_61\n",
      "Processing: ./UQtest/A/A_62\n",
      "Processing: ./UQtest/A/A_63\n",
      "Processing: ./UQtest/A/A_64\n",
      "Processing: ./UQtest/A/A_65\n",
      "Processing: ./UQtest/A/A_66\n",
      "Processing: ./UQtest/A/A_67\n",
      "Processing: ./UQtest/A/A_68\n",
      "Processing: ./UQtest/A/A_69\n",
      "Processing: ./UQtest/A/A_7\n",
      "Processing: ./UQtest/A/A_70\n",
      "Processing: ./UQtest/A/A_71\n",
      "Processing: ./UQtest/A/A_72\n",
      "Processing: ./UQtest/A/A_73\n",
      "Processing: ./UQtest/A/A_74\n",
      "Processing: ./UQtest/A/A_75\n",
      "Processing: ./UQtest/A/A_76\n",
      "Processing: ./UQtest/A/A_77\n",
      "Processing: ./UQtest/A/A_78\n",
      "Processing: ./UQtest/A/A_79\n",
      "Processing: ./UQtest/A/A_8\n",
      "Processing: ./UQtest/A/A_80\n",
      "Processing: ./UQtest/A/A_81\n",
      "Processing: ./UQtest/A/A_82\n",
      "Processing: ./UQtest/A/A_83\n",
      "Processing: ./UQtest/A/A_84\n",
      "Processing: ./UQtest/A/A_85\n",
      "Processing: ./UQtest/A/A_86\n",
      "Processing: ./UQtest/A/A_87\n",
      "Processing: ./UQtest/A/A_88\n",
      "Processing: ./UQtest/A/A_89\n",
      "Processing: ./UQtest/A/A_9\n",
      "Processing: ./UQtest/A/A_90\n",
      "Processing: ./UQtest/A/A_91\n",
      "Processing: ./UQtest/A/A_92\n",
      "Processing: ./UQtest/A/A_93\n",
      "Processing: ./UQtest/A/A_94\n",
      "Processing: ./UQtest/A/A_95\n",
      "Processing: ./UQtest/A/A_96\n",
      "Processing: ./UQtest/A/A_97\n",
      "Processing: ./UQtest/A/A_98\n",
      "Processing: ./UQtest/A/A_99\n",
      "(128, 361, 39)\n"
     ]
    }
   ],
   "source": [
    "# Set Directory and number of instance in the UQ campaign\n",
    "data_root = './UQtest/A/'\n",
    "time_step = 361\n",
    "\n",
    "# Read the all subdirectory of UQ instances in a list\n",
    "data_list = [os.path.join(data_root, item) for item in sorted(os.listdir(data_root))]\n",
    "\n",
    "#Create an empty list and fetch the data in an loop\n",
    "lumen_list = np.empty((0,time_step,39), float)\n",
    "for item in data_list:\n",
    "    print('Processing:',item) \n",
    "    Data = LumenRead(item,time_step)\n",
    "    lumen_list = np.append(lumen_list,np.expand_dims(Data,axis=0),axis=0)\n",
    "\n",
    "print(lumen_list.shape)\t\n",
    "np.save('LumenData',lumen_list)"
   ]
  },
  {
   "cell_type": "code",
   "execution_count": 15,
   "metadata": {},
   "outputs": [
    {
     "data": {
      "image/png": "[encoded data removed]",
      "text/plain": [
       "<Figure size 432x288 with 1 Axes>"
      ]
     },
     "metadata": {
      "needs_background": "light"
     },
     "output_type": "display_data"
    }
   ],
   "source": [
    "# Calculate the lumen volume from (lumen_area_of_each_slice*depth_of_slice)\n",
    "lumen_list = np.load('LumenData.npy')\n",
    "lumen_vol = np.sum(lumen_list[:,:,:],axis=2) * 0.03125\n",
    "fig = plt.figure()\n",
    "\n",
    "# plt.plot(np.ones(128)*3.56055,np.linspace(0.0,2.5,128),label='0 days',c='k')\n",
    "sns.kdeplot(lumen_vol[:,72],label='3 days',fill=True)\n",
    "sns.kdeplot(lumen_vol[:,144],label='6 days',fill=True)\n",
    "sns.kdeplot(lumen_vol[:,216],label='9 days',fill=True)\n",
    "sns.kdeplot(lumen_vol[:,288],label='12 days',fill=True)\n",
    "sns.kdeplot(lumen_vol[:,360],label='15 days',fill=True)\n",
    "plt.legend(fontsize=10,loc=2)\n",
    "plt.xlabel('Lumen volume of blood vessel ($mm^3$)',fontsize=12)\n",
    "plt.ylabel('Probability density function',fontsize=12)\n",
    "plt.savefig('./'+'pdf.png')\n",
    "plt.show()"
   ]
  },
  {
   "cell_type": "code",
   "execution_count": 14,
   "metadata": {},
   "outputs": [
    {
     "data": {
      "image/png": "[encoded data removed]",
      "text/plain": [
       "<Figure size 432x288 with 1 Axes>"
      ]
     },
     "metadata": {
      "needs_background": "light"
     },
     "output_type": "display_data"
    }
   ],
   "source": [
    "# plot mean+/-STD\n",
    "days = np.zeros(361)\n",
    "for i in range(361):\n",
    "    days[i] = i/24\n",
    "\n",
    "plt.plot(days, np.mean(lumen_vol,axis=0),label='Mean')\n",
    "plt.plot(days, np.mean(lumen_vol,axis=0) - np.std(lumen_vol,axis=0), '--',color='r',label='Mean+/-STD')\n",
    "plt.plot(days, np.mean(lumen_vol,axis=0) + np.std(lumen_vol,axis=0), '--',color='r')\n",
    "plt.xlabel('Time (days)')\n",
    "plt.ylabel('Lumen volume of blood vessel ($mm^3$)')\n",
    "plt.legend()\n",
    "plt.savefig('./'+'mean.png')\n",
    "plt.show()\n"
   ]
  },
  {
   "cell_type": "code",
   "execution_count": null,
   "metadata": {},
   "outputs": [],
   "source": []
  }
 ],
 "metadata": {
  "kernelspec": {
   "display_name": "Python 3",
   "language": "python",
   "name": "python3"
  },
  "language_info": {
   "codemirror_mode": {
    "name": "ipython",
    "version": 3
   },
   "file_extension": ".py",
   "mimetype": "text/x-python",
   "name": "python",
   "nbconvert_exporter": "python",
   "pygments_lexer": "ipython3",
   "version": "3.7.9"
  }
 },
 "nbformat": 4,
 "nbformat_minor": 4
}
