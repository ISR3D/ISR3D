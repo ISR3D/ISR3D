{
 "cells": [
  {
   "cell_type": "code",
   "execution_count": null,
   "metadata": {},
   "outputs": [],
   "source": [
    "import numpy as np\n",
    "import ymmsl\n",
    "import yaml\n",
    "import sobol_seq\n",
    "import csv\n",
    "import os\n",
    "import matplotlib.pyplot as plt\n",
    "import seaborn as sns\n",
    "import zenodo_get"
   ]
  },
  {
   "cell_type": "code",
   "execution_count": null,
   "metadata": {},
   "outputs": [],
   "source": [
    "# Transform the normalized sample matrix to ranges of uncertain parameters\n",
    "def dim_transform(sobel_vector,uncertain_list):\n",
    "    \n",
    "    dim = len(uncertain_list)\n",
    "    for num_dim in range(dim):\n",
    "        para_max = uncertain_list[num_dim].get('max')\n",
    "        para_min = uncertain_list[num_dim].get('min')\n",
    "        sobel_vector[:,num_dim] = para_min + (para_max-para_min)*sobel_vector[:,num_dim]\n",
    "        \n",
    "    return sobel_vector"
   ]
  },
  {
   "cell_type": "code",
   "execution_count": null,
   "metadata": {},
   "outputs": [],
   "source": [
    "####################################################################################\n",
    "##### Sample generation and UQ campaign creation (including instances folder)#######\n",
    "####################################################################################\n",
    "# Note:\n",
    "#  This is used to generate UQ samples for only four biological parameters:\n",
    "#\t1) Endothelium endpoint 2)smc max stran 3)balloon extension 4) Fenestration probability\n",
    "\n",
    "# Naming of Folder and files for samples\n",
    "# Level 0:    UQtest                                    (UQ campaign name)\n",
    "# Level 1:    UQtest/A                                  (sample matrix of sobol sequence)\n",
    "# Level 2:    UQtest/A/A_X where X vary from 1 -> N     (N: number of samples)\n",
    "# Level 3:    UQtest/A/A_X/input.ymmsl\n"
   ]
  },
  {
   "cell_type": "code",
   "execution_count": null,
   "metadata": {},
   "outputs": [],
   "source": [
    "### Main function\n",
    "# Number of samples for UQ\n",
    "# Note that ISR3D is a computationally intensive application.\n",
    "# Running 128 instances would need some cluster resources\n",
    "N_sample = 128\n",
    "\n",
    "# Template path to the ymmsl file (relative path from ISR3D/Result/UQtest/ to ISR3D/UQ/template/input_stage4.ymmsl)\n",
    "input_path = '../../UQ/template/'\n",
    "input_ymmsl_filename = 'input_stage4.ymmsl'\n",
    "\n",
    "# Output directory for UQ campagin folder and name\n",
    "output_path = './'\n",
    "experiment_name = 'UQtest'"
   ]
  },
  {
   "cell_type": "code",
   "execution_count": null,
   "metadata": {},
   "outputs": [],
   "source": [
    "# Read in the data of template ymmsl file\n",
    "with open(input_path+input_ymmsl_filename,'r') as f:\n",
    "    ymmsl_data = ymmsl.load(f)\n"
   ]
  },
  {
   "cell_type": "code",
   "execution_count": null,
   "metadata": {},
   "outputs": [],
   "source": [
    "# Take out the unchanged model part and need-for-change settings part for ymmsl model\n",
    "model = ymmsl_data.model\n",
    "settings = ymmsl_data.settings"
   ]
  },
  {
   "cell_type": "code",
   "execution_count": null,
   "metadata": {},
   "outputs": [],
   "source": [
    "# Set uncertain parameters and its ranges as a list\n",
    "ymmsl_uncertain_parameters = [\n",
    "        {\n",
    "            'name': 'smc.endo_endpoint',\n",
    "            'min': 10.0,\n",
    "            'max': 20.0\n",
    "        },\n",
    "        {\n",
    "            'name': 'smc.balloon_extension',\n",
    "            'min': 0.5,\n",
    "            'max': 1.5\n",
    "        },\n",
    "        {\n",
    "            'name': 'smc.smc_max_strain',\n",
    "            'min': 1.2,\n",
    "            'max': 1.8\n",
    "        },\n",
    "        {\n",
    "            'name': 'smc.fenestration_probability',\n",
    "            'min': 0.0,# Calculate the lumen volume from (lumen_area_of_each_slice*depth_of_slice)\n",
    "            'max': 0.1\n",
    "        }]"
   ]
  },
  {
   "cell_type": "code",
   "execution_count": null,
   "metadata": {},
   "outputs": [],
   "source": [
    "# Count the total uncertain input dimensions (here 4 parameters)\n",
    "num_uncer_para = len(ymmsl_uncertain_parameters)\n",
    "print('Number of uncertain parameter: '+str(num_uncer_para))"
   ]
  },
  {
   "cell_type": "code",
   "execution_count": null,
   "metadata": {},
   "outputs": [],
   "source": [
    "# Generate sobel sequence range (0,1), save the file and transform to (min,max)\n",
    "A = sobol_seq.i4_sobol_generate(num_uncer_para,N_sample)\n",
    "A = dim_transform(A,ymmsl_uncertain_parameters)\n",
    "np.savetxt(\"A.csv\",A)"
   ]
  },
  {
   "cell_type": "code",
   "execution_count": null,
   "metadata": {},
   "outputs": [],
   "source": [
    "# Create corresponding directory and folders\n",
    "try:\n",
    "    os.mkdir(output_path+experiment_name)\n",
    "except OSError:\n",
    "    print (\"Creation of the directory %s failed\" % output_path+experiment_name)\n",
    "else:\n",
    "    print (\"Successfully created the directory %s\" % output_path+experiment_name)"
   ]
  },
  {
   "cell_type": "code",
   "execution_count": null,
   "metadata": {},
   "outputs": [],
   "source": [
    "# A: Replace the corresponding value within the dict and output the file\n",
    "os.mkdir(output_path+experiment_name+'/A')\n",
    "checklist = ['A']\n",
    "\n",
    "for n in range(N_sample):\n",
    "    sample_path = output_path+experiment_name+'/A'+'/A_'+str(n)\n",
    "    os.mkdir(sample_path)\n",
    "    \n",
    "    # Generate file for ymmsl \n",
    "    num_para = 0\n",
    "    for para in ymmsl_uncertain_parameters:\n",
    "        settings[para.get('name')] = float(A[n,num_para])\n",
    "        num_para = num_para + 1\n",
    "        \n",
    "    config = ymmsl.Configuration(model, settings)\n",
    "    with open(sample_path+'/input_stage4.ymmsl', 'w') as f:\n",
    "        ymmsl.save(config, f)\n",
    "\n",
    "print('Wrting and saving procedure done: A')"
   ]
  },
  {
   "cell_type": "code",
   "execution_count": null,
   "metadata": {},
   "outputs": [],
   "source": [
    "####################################################################################\n",
    "##### Run shell script to broadcast other input files to each sample folder#########\n",
    "####################################################################################"
   ]
  },
  {
   "cell_type": "code",
   "execution_count": null,
   "metadata": {
    "scrolled": true
   },
   "outputs": [],
   "source": [
    "import subprocess\n",
    "# Download Other input files from Zenodo\n",
    "subprocess.run(['wget https://zenodo.org/record/4603912/files/stage3.test_vessel.dat'],shell = True)\n",
    "subprocess.run(['wget https://zenodo.org/record/4603912/files/stage3.test_vessel_nb.dat'],shell = True)\n",
    "subprocess.run(['wget https://zenodo.org/record/4603912/files/test_vessel_centerline.csv'],shell = True)\n",
    "\n",
    "# Template path to the ymmsl file (relative path from ISR3D/Result/UQtest/ to ISR3D/UQ/function/BCastStage3.sh)\n",
    "pass_arg = str(N_sample)\n",
    "subprocess.run(['bash','../../UQ/function/BCastStage3.sh', '%s'%pass_arg]) "
   ]
  },
  {
   "cell_type": "code",
   "execution_count": null,
   "metadata": {},
   "outputs": [],
   "source": [
    "####################################################################################################\n",
    "##### You can copy the slurm job array to the directory and launch through terminal ################\n",
    "##### Or directly do it here                                                        ################\n",
    "####################################################################################################"
   ]
  },
  {
   "cell_type": "code",
   "execution_count": null,
   "metadata": {},
   "outputs": [],
   "source": [
    "# This slurm script is made for the execution on Eagle supercomputer from PSNC. \n",
    "# To run the job array on your own cluster, you would need to tweak the setting a bit\n",
    "# For example. partition=XXXX ,\n",
    "subprocess.run([\"sbatch\", \"../../UQ/slurm/job_array.sl\"])"
   ]
  },
  {
   "cell_type": "code",
   "execution_count": null,
   "metadata": {},
   "outputs": [],
   "source": [
    "################################################################################\n",
    "###### Fetch the result data and plot out the PDF and mean+/-STD figures #######\n",
    "################################################################################"
   ]
  },
  {
   "cell_type": "code",
   "execution_count": null,
   "metadata": {},
   "outputs": [],
   "source": [
    "# Function of reading data\n",
    "def LumenRead(path,numfile):\n",
    "    \n",
    "    resultlist = np.empty((0,39), float)\n",
    "    for i in range(numfile):\n",
    "        filename = os.path.join(path,('lumen_area_000'+str(\"{0:0=3d}\".format(i))+'.csv'))\n",
    "        reader = csv.reader(open(filename, \"r\"), delimiter='\\t')\n",
    "        x = list(reader)\n",
    "        result = np.array(x[0][:-1]).astype(\"float\")\n",
    "        resultlist = np.append(resultlist, np.expand_dims(result,axis=0), axis=0)\n",
    "        \n",
    "    # print(resultlist.shape)\n",
    "    return resultlist"
   ]
  },
  {
   "cell_type": "code",
   "execution_count": null,
   "metadata": {},
   "outputs": [],
   "source": [
    "# Set Directory and number of instance in the UQ campaign\n",
    "data_root = './UQtest/A/'\n",
    "time_step = 361\n",
    "\n",
    "# Read the all subdirectory of UQ instances in a list\n",
    "data_list = [os.path.join(data_root, item) for item in sorted(os.listdir(data_root))]\n",
    "\n",
    "#Create an empty list and fetch the data in an loop\n",
    "lumen_list = np.empty((0,time_step,39), float)\n",
    "for item in data_list:\n",
    "    print('Processing:',item) \n",
    "    Data = LumenRead(item,time_step)\n",
    "    lumen_list = np.append(lumen_list,np.expand_dims(Data,axis=0),axis=0)\n",
    "\n",
    "print(lumen_list.shape)\t\n",
    "np.save('LumenData',lumen_list)"
   ]
  },
  {
   "cell_type": "code",
   "execution_count": null,
   "metadata": {},
   "outputs": [],
   "source": [
    "# Calculate the lumen volume from (lumen_area_of_each_slice*depth_of_slice)\n",
    "lumen_list = np.load('LumenData.npy')\n",
    "lumen_vol = np.sum(lumen_list[:,:,:],axis=2) * 0.03125\n",
    "fig = plt.figure()\n",
    "\n",
    "# plt.plot(np.ones(128)*3.56055,np.linspace(0.0,2.5,128),label='0 days',c='k')\n",
    "sns.kdeplot(lumen_vol[:,72],label='3 days',fill=True)\n",
    "sns.kdeplot(lumen_vol[:,144],label='6 days',fill=True)\n",
    "sns.kdeplot(lumen_vol[:,216],label='9 days',fill=True)\n",
    "sns.kdeplot(lumen_vol[:,288],label='12 days',fill=True)\n",
    "sns.kdeplot(lumen_vol[:,360],label='15 days',fill=True)\n",
    "plt.legend(fontsize=10,loc=2)\n",
    "plt.xlabel('Lumen volume of blood vessel ($mm^3$)',fontsize=12)\n",
    "plt.ylabel('Probability density function',fontsize=12)\n",
    "plt.savefig('./'+'pdf.png')\n",
    "plt.show()"
   ]
  },
  {
   "cell_type": "code",
   "execution_count": null,
   "metadata": {},
   "outputs": [],
   "source": [
    "# plot mean+/-STD\n",
    "days = np.zeros(361)\n",
    "for i in range(361):\n",
    "    days[i] = i/24\n",
    "\n",
    "plt.plot(days, np.mean(lumen_vol,axis=0),label='Mean')\n",
    "plt.plot(days, np.mean(lumen_vol,axis=0) - np.std(lumen_vol,axis=0), '--',color='r',label='Mean+/-STD')\n",
    "plt.plot(days, np.mean(lumen_vol,axis=0) + np.std(lumen_vol,axis=0), '--',color='r')\n",
    "plt.xlabel('Time (days)')\n",
    "plt.ylabel('Lumen volume of blood vessel ($mm^3$)')\n",
    "plt.legend()\n",
    "plt.savefig('./'+'mean.png')\n",
    "plt.show()\n"
   ]
  },
  {
   "cell_type": "code",
   "execution_count": null,
   "metadata": {},
   "outputs": [],
   "source": []
  }
 ],
 "metadata": {
  "kernelspec": {
   "display_name": "Python 3",
   "language": "python",
   "name": "python3"
  },
  "language_info": {
   "codemirror_mode": {
    "name": "ipython",
    "version": 3
   },
   "file_extension": ".py",
   "mimetype": "text/x-python",
   "name": "python",
   "nbconvert_exporter": "python",
   "pygments_lexer": "ipython3",
   "version": "3.7.6"
  }
 },
 "nbformat": 4,
 "nbformat_minor": 4
}
